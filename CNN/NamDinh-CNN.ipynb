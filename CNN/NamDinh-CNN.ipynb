{
 "cells": [
  {
   "cell_type": "code",
   "execution_count": null,
   "metadata": {},
   "outputs": [],
   "source": []
  },
  {
   "cell_type": "code",
   "execution_count": 49,
   "metadata": {},
   "outputs": [],
   "source": [
    "from numpy import array\n",
    "import numpy as np\n",
    "import keras\n",
    "import tensorflow\n",
    "# from keras.utils.vis_utils import plot_model\n",
    "from keras.models import Sequential\n",
    "from keras.layers import Dense\n",
    "from keras.layers import Flatten\n",
    "from keras.layers import Dropout\n",
    "# from keras.layers.convolutional import Conv1D\n",
    "# from keras.layers.convolutional import MaxPooling1D\n",
    "from tensorflow.keras.layers import BatchNormalization,LSTM\n",
    "\n",
    "from tensorflow.keras.layers import Conv1D\n",
    "from tensorflow.keras.layers import MaxPooling1D\n",
    "import pandas as pd\n",
    "\n",
    "from math import log\n",
    "from math import exp\n",
    "from scipy.stats import boxcox\n",
    "import matplotlib.pyplot as plt\n",
    "\n"
   ]
  },
  {
   "cell_type": "code",
   "execution_count": 50,
   "metadata": {},
   "outputs": [],
   "source": [
    "# split a univariate sequence into samples\n",
    "def split_sequence(sequence, n_steps_in, n_steps_out):\n",
    "\tX, y = list(), list()\n",
    "\tfor i in range(len(sequence)):\n",
    "\t\t# find the end of this pattern\n",
    "\t\tend_ix = i + n_steps_in\n",
    "\t\tout_end_ix = end_ix + n_steps_out\n",
    "\t\t# check if we are beyond the sequence\n",
    "\t\tif out_end_ix > len(sequence):\n",
    "\t\t\tbreak\n",
    "\t\t# gather input and output parts of the pattern\n",
    "\t\tseq_x, seq_y = sequence[i:end_ix], sequence[end_ix:out_end_ix]\n",
    "\t\tX.append(seq_x)\n",
    "\t\ty.append(seq_y)\n",
    "\treturn array(X), array(y)"
   ]
  },
  {
   "cell_type": "code",
   "execution_count": 51,
   "metadata": {},
   "outputs": [],
   "source": [
    "def invert_boxcox(value, lam):\n",
    "\t# log case\n",
    "\tif lam == 0:\n",
    "\t\treturn exp(value)\n",
    "\t# all other cases\n",
    "\treturn exp(log(lam * value + 1) / lam)"
   ]
  },
  {
   "cell_type": "code",
   "execution_count": 52,
   "metadata": {},
   "outputs": [
    {
     "name": "stdout",
     "output_type": "stream",
     "text": [
      "Training Sequence : 204\n",
      "Validation Sequence : 24\n",
      "Testing Sequence : 24\n",
      "[5.000e-01 3.930e+01 2.710e+01 1.488e+02 1.959e+02 2.238e+02 3.557e+02\n",
      " 1.482e+02 7.132e+02 3.244e+02 4.740e+01 3.000e+00 8.810e+01 1.011e+02\n",
      " 6.270e+01 1.022e+02 1.722e+02 1.362e+02 3.290e+02 5.150e+02 6.530e+02\n",
      " 2.852e+02 8.700e+01 1.070e+01]\n"
     ]
    }
   ],
   "source": [
    "\n",
    "data = pd.read_excel(\"New data.xlsx\")\n",
    "\n",
    "t = data.iloc[0:204] #11565\n",
    "v = data.iloc[204:228]\n",
    "ts = data.iloc[228:252]\n",
    "\n",
    "train_seq = t['Nam Định'].values\n",
    "epsilon = 1e-10\n",
    "train_seq = train_seq + epsilon   \n",
    "val_seq = v['Nam Định'].values\n",
    "test_seq = ts['Nam Định'].values\n",
    "tr, tr_lamb = boxcox(train_seq)\n",
    "vl, vl_lamb = boxcox(val_seq)\n",
    "ts, ts_lamb = boxcox(test_seq)\n",
    "\n",
    "print('Training Sequence : %d'%len(train_seq))\n",
    "print('Validation Sequence : %d'%len(val_seq))\n",
    "print('Testing Sequence : %d'%len(test_seq))\n",
    "print(test_seq)"
   ]
  },
  {
   "cell_type": "code",
   "execution_count": 53,
   "metadata": {},
   "outputs": [
    {
     "name": "stdout",
     "output_type": "stream",
     "text": [
      "X_train shape: (181, 12, 1)\n",
      "X_val shape: (1, 12, 1)\n",
      "X_test shape: (1, 12, 1)\n"
     ]
    }
   ],
   "source": [
    "n_steps_in, n_steps_out = 12, 12\n",
    "# split into samples\n",
    "\n",
    "X_train = np.log(train_seq) \n",
    "X_test = np.log(test_seq)\n",
    "# print(X_test)\n",
    "X_train, y_train = split_sequence(tr, n_steps_in, n_steps_out)\n",
    "X_val, y_val = split_sequence(vl, n_steps_in, n_steps_out)\n",
    "X_test, y_test = split_sequence(ts, n_steps_in, n_steps_out)\n",
    "\n",
    "# reshape from [samples, timesteps] into [samples, timesteps, features]\n",
    "n_features = 1\n",
    "X_train = X_train.reshape((X_train.shape[0], n_steps_in, n_features))\n",
    "X_val = X_val.reshape((X_val.shape[0], n_steps_in, n_features))\n",
    "X_test = X_test.reshape((X_test.shape[0], n_steps_in, n_features))\n",
    "print(\"X_train shape:\", X_train.shape)\n",
    "print(\"X_val shape:\", X_val.shape)\n",
    "print(\"X_test shape:\", X_test.shape)\n",
    "\n",
    "\n"
   ]
  },
  {
   "cell_type": "code",
   "execution_count": 54,
   "metadata": {},
   "outputs": [
    {
     "name": "stderr",
     "output_type": "stream",
     "text": [
      "WARNING:absl:`lr` is deprecated in Keras optimizer, please use `learning_rate` or use the legacy optimizer, e.g.,tf.keras.optimizers.legacy.Adam.\n"
     ]
    }
   ],
   "source": [
    "import keras.backend as kb\n",
    "\n",
    "def r2_score(y_true, y_pred):\n",
    "    ss_res = kb.sum(kb.square(y_true - y_pred))\n",
    "    ss_tot = kb.sum(kb.square(y_true - kb.mean(y_true)))\n",
    "    return (1 - ss_res/(ss_tot + kb.epsilon()))\n",
    "\n",
    "# model = Sequential()\n",
    "# # Additional convolutional layer \n",
    "# model.add(Conv1D(filters=256, kernel_size=5, activation='relu', input_shape=(n_steps_in, n_features)))\n",
    "# model.add(Conv1D(filters=128, kernel_size=3, activation='relu')) \n",
    "# # BatchNorm for stability\n",
    "# model.add(BatchNormalization())\n",
    "# model.add(MaxPooling1D(pool_size=2))\n",
    "# # Lower dropout \n",
    "# model.add(Dropout(0.1))\n",
    "\n",
    "# # LSTM layer to learn longer sequences\n",
    "# model.add(LSTM(128))  \n",
    "\n",
    "# model.add(Dropout(0.1))\n",
    "\n",
    "# # Larger dense layers\n",
    "# model.add(Dense(256, activation='relu'))\n",
    "# model.add(Dense(n_steps_out))\n",
    "\n",
    "\n",
    "# Compile with different optimizer\n",
    "# model.compile(optimizer=RMSprop(), loss='mse')\n",
    "model = Sequential()\n",
    "model.add(Conv1D(filters=256, kernel_size=5, activation='relu', input_shape=(n_steps_in, n_features)))\n",
    "model.add(Conv1D(filters=128, kernel_size=3, activation='relu', input_shape=(n_steps_in, n_features), kernel_regularizer=keras.regularizers.l2(l=0.01), kernel_initializer='he_normal'))\n",
    "model.add(MaxPooling1D(pool_size=2))\n",
    "model.add(Flatten())\n",
    "model.add(Dropout(0.1))\n",
    "model.add(Dense(128, activation='relu', kernel_regularizer=keras.regularizers.l2(l=0.001), kernel_initializer='he_normal'))\n",
    "model.add(Dense(n_steps_out, activation ='relu'))\n",
    "\n",
    "adam = keras.optimizers.Adam(lr=0.001)\n",
    "model.compile(optimizer='adam', loss='mse')\n",
    "            #   metrics=[r2_score, 'mae', keras.metrics.RootMeanSquaredError()])\n",
    "# model = Sequential()\n",
    "# model.add(Conv1D(filters=126, kernel_size=2, activation='relu', input_shape=(n_steps_in, n_features), kernel_regularizer=keras.regularizers.l2(l=0.01), kernel_initializer='he_normal'))\n",
    "# model.add(MaxPooling1D(pool_size=2))\n",
    "# model.add(Flatten())\n",
    "# model.add(Dropout(0.2))\n",
    "# model.add(Dense(n_steps_out))\n",
    "\n",
    "# adam = keras.optimizers.Adam(lr=0.001)\n",
    "# model.compile(optimizer=adam, loss='mse', metrics=[r2_score, 'mae', keras.metrics.RootMeanSquaredError()])"
   ]
  },
  {
   "cell_type": "code",
   "execution_count": 55,
   "metadata": {},
   "outputs": [
    {
     "name": "stdout",
     "output_type": "stream",
     "text": [
      "Epoch 1/200\n"
     ]
    },
    {
     "name": "stdout",
     "output_type": "stream",
     "text": [
      "3/3 [==============================] - 1s 97ms/step - loss: 76.5192 - val_loss: 47.6645\n",
      "Epoch 2/200\n",
      "3/3 [==============================] - 0s 24ms/step - loss: 50.0024 - val_loss: 42.3716\n",
      "Epoch 3/200\n",
      "3/3 [==============================] - 0s 23ms/step - loss: 46.5307 - val_loss: 38.1671\n",
      "Epoch 4/200\n",
      "3/3 [==============================] - 0s 22ms/step - loss: 38.5835 - val_loss: 30.3176\n",
      "Epoch 5/200\n",
      "3/3 [==============================] - 0s 20ms/step - loss: 35.1836 - val_loss: 26.1572\n",
      "Epoch 6/200\n",
      "3/3 [==============================] - 0s 24ms/step - loss: 32.7371 - val_loss: 19.6384\n",
      "Epoch 7/200\n",
      "3/3 [==============================] - 0s 26ms/step - loss: 29.0239 - val_loss: 13.2608\n",
      "Epoch 8/200\n",
      "3/3 [==============================] - 0s 24ms/step - loss: 26.1168 - val_loss: 11.5017\n",
      "Epoch 9/200\n",
      "3/3 [==============================] - 0s 25ms/step - loss: 23.6904 - val_loss: 12.2899\n",
      "Epoch 10/200\n",
      "3/3 [==============================] - 0s 23ms/step - loss: 21.7149 - val_loss: 13.7100\n",
      "Epoch 11/200\n",
      "3/3 [==============================] - 0s 22ms/step - loss: 20.8474 - val_loss: 13.9247\n",
      "Epoch 12/200\n",
      "3/3 [==============================] - 0s 25ms/step - loss: 19.6049 - val_loss: 13.9468\n",
      "Epoch 13/200\n",
      "3/3 [==============================] - 0s 25ms/step - loss: 19.1896 - val_loss: 13.2405\n",
      "Epoch 14/200\n",
      "3/3 [==============================] - 0s 25ms/step - loss: 18.3842 - val_loss: 12.7210\n",
      "Epoch 15/200\n",
      "3/3 [==============================] - 0s 24ms/step - loss: 17.6024 - val_loss: 11.7848\n",
      "Epoch 16/200\n",
      "3/3 [==============================] - 0s 26ms/step - loss: 17.0700 - val_loss: 11.2063\n",
      "Epoch 17/200\n",
      "3/3 [==============================] - 0s 23ms/step - loss: 17.2324 - val_loss: 11.4052\n",
      "Epoch 18/200\n",
      "3/3 [==============================] - 0s 23ms/step - loss: 17.0645 - val_loss: 11.3745\n",
      "Epoch 19/200\n",
      "3/3 [==============================] - 0s 22ms/step - loss: 16.8260 - val_loss: 11.0848\n",
      "Epoch 20/200\n",
      "3/3 [==============================] - 0s 24ms/step - loss: 16.4526 - val_loss: 10.9983\n",
      "Epoch 21/200\n",
      "3/3 [==============================] - 0s 20ms/step - loss: 16.3514 - val_loss: 11.6418\n",
      "Epoch 22/200\n",
      "3/3 [==============================] - 0s 19ms/step - loss: 16.4156 - val_loss: 11.5972\n",
      "Epoch 23/200\n",
      "3/3 [==============================] - 0s 19ms/step - loss: 16.1434 - val_loss: 10.9242\n",
      "Epoch 24/200\n",
      "3/3 [==============================] - 0s 22ms/step - loss: 16.0032 - val_loss: 11.0434\n",
      "Epoch 25/200\n",
      "3/3 [==============================] - 0s 21ms/step - loss: 15.8944 - val_loss: 12.1271\n",
      "Epoch 26/200\n",
      "3/3 [==============================] - 0s 34ms/step - loss: 15.8988 - val_loss: 11.4846\n",
      "Epoch 27/200\n",
      "3/3 [==============================] - 0s 26ms/step - loss: 15.4911 - val_loss: 10.2399\n",
      "Epoch 28/200\n",
      "3/3 [==============================] - 0s 25ms/step - loss: 14.9887 - val_loss: 10.3997\n",
      "Epoch 29/200\n",
      "3/3 [==============================] - 0s 23ms/step - loss: 13.8432 - val_loss: 11.7099\n",
      "Epoch 30/200\n",
      "3/3 [==============================] - 0s 26ms/step - loss: 12.3230 - val_loss: 13.2998\n",
      "Epoch 31/200\n",
      "3/3 [==============================] - 0s 20ms/step - loss: 11.2114 - val_loss: 13.0908\n",
      "Epoch 32/200\n",
      "3/3 [==============================] - 0s 20ms/step - loss: 10.0412 - val_loss: 12.1234\n",
      "Epoch 33/200\n",
      "3/3 [==============================] - 0s 23ms/step - loss: 9.6941 - val_loss: 11.0084\n",
      "Epoch 34/200\n",
      "3/3 [==============================] - 0s 27ms/step - loss: 9.1710 - val_loss: 10.6817\n",
      "Epoch 35/200\n",
      "3/3 [==============================] - 0s 22ms/step - loss: 9.1620 - val_loss: 9.8919\n",
      "Epoch 36/200\n",
      "3/3 [==============================] - 0s 24ms/step - loss: 9.1491 - val_loss: 9.8138\n",
      "Epoch 37/200\n",
      "3/3 [==============================] - 0s 23ms/step - loss: 8.9823 - val_loss: 10.2754\n",
      "Epoch 38/200\n",
      "3/3 [==============================] - 0s 21ms/step - loss: 8.7843 - val_loss: 10.0802\n",
      "Epoch 39/200\n",
      "3/3 [==============================] - 0s 22ms/step - loss: 8.4831 - val_loss: 9.9637\n",
      "Epoch 40/200\n",
      "3/3 [==============================] - 0s 23ms/step - loss: 8.3936 - val_loss: 10.0126\n",
      "Epoch 41/200\n",
      "3/3 [==============================] - 0s 29ms/step - loss: 8.3325 - val_loss: 10.4427\n",
      "Epoch 42/200\n",
      "3/3 [==============================] - 0s 22ms/step - loss: 8.4353 - val_loss: 9.8010\n",
      "Epoch 43/200\n",
      "3/3 [==============================] - 0s 22ms/step - loss: 8.2110 - val_loss: 10.4291\n",
      "Epoch 44/200\n",
      "3/3 [==============================] - 0s 22ms/step - loss: 8.2833 - val_loss: 10.7239\n",
      "Epoch 45/200\n",
      "3/3 [==============================] - 0s 28ms/step - loss: 8.1109 - val_loss: 9.7351\n",
      "Epoch 46/200\n",
      "3/3 [==============================] - 0s 25ms/step - loss: 7.9464 - val_loss: 9.9290\n",
      "Epoch 47/200\n",
      "3/3 [==============================] - 0s 36ms/step - loss: 8.1065 - val_loss: 9.9413\n",
      "Epoch 48/200\n",
      "3/3 [==============================] - 0s 31ms/step - loss: 7.7890 - val_loss: 9.5969\n",
      "Epoch 49/200\n",
      "3/3 [==============================] - 0s 29ms/step - loss: 7.9530 - val_loss: 9.4910\n",
      "Epoch 50/200\n",
      "3/3 [==============================] - 0s 36ms/step - loss: 7.8954 - val_loss: 10.1700\n",
      "Epoch 51/200\n",
      "3/3 [==============================] - 0s 33ms/step - loss: 8.0229 - val_loss: 10.7967\n",
      "Epoch 52/200\n",
      "3/3 [==============================] - 0s 26ms/step - loss: 7.9716 - val_loss: 9.8837\n",
      "Epoch 53/200\n",
      "3/3 [==============================] - 0s 25ms/step - loss: 7.7801 - val_loss: 10.3266\n",
      "Epoch 54/200\n",
      "3/3 [==============================] - 0s 22ms/step - loss: 7.6282 - val_loss: 10.4760\n",
      "Epoch 55/200\n",
      "3/3 [==============================] - 0s 20ms/step - loss: 7.7127 - val_loss: 9.9766\n",
      "Epoch 56/200\n",
      "3/3 [==============================] - 0s 23ms/step - loss: 7.7882 - val_loss: 10.6563\n",
      "Epoch 57/200\n",
      "3/3 [==============================] - 0s 27ms/step - loss: 7.6351 - val_loss: 10.1562\n",
      "Epoch 58/200\n",
      "3/3 [==============================] - 0s 25ms/step - loss: 7.5903 - val_loss: 9.8154\n",
      "Epoch 59/200\n",
      "3/3 [==============================] - 0s 26ms/step - loss: 7.4863 - val_loss: 10.4872\n",
      "Epoch 60/200\n",
      "3/3 [==============================] - 0s 40ms/step - loss: 7.4485 - val_loss: 9.6701\n",
      "Epoch 61/200\n",
      "3/3 [==============================] - 0s 44ms/step - loss: 7.4169 - val_loss: 10.1633\n",
      "Epoch 62/200\n",
      "3/3 [==============================] - 0s 37ms/step - loss: 7.3959 - val_loss: 10.0309\n",
      "Epoch 63/200\n",
      "3/3 [==============================] - 0s 29ms/step - loss: 7.2566 - val_loss: 9.6636\n",
      "Epoch 64/200\n",
      "3/3 [==============================] - 0s 26ms/step - loss: 7.3446 - val_loss: 10.1221\n",
      "Epoch 65/200\n",
      "3/3 [==============================] - 0s 28ms/step - loss: 7.2613 - val_loss: 9.6017\n",
      "Epoch 66/200\n",
      "3/3 [==============================] - 0s 78ms/step - loss: 7.2722 - val_loss: 10.0899\n",
      "Epoch 67/200\n",
      "3/3 [==============================] - 0s 28ms/step - loss: 7.2040 - val_loss: 9.8746\n",
      "Epoch 68/200\n",
      "3/3 [==============================] - 0s 27ms/step - loss: 7.1979 - val_loss: 10.0757\n",
      "Epoch 69/200\n",
      "3/3 [==============================] - 0s 38ms/step - loss: 7.1265 - val_loss: 10.0118\n",
      "Epoch 70/200\n",
      "3/3 [==============================] - 0s 29ms/step - loss: 7.2073 - val_loss: 9.9582\n",
      "Epoch 71/200\n",
      "3/3 [==============================] - 0s 25ms/step - loss: 7.1230 - val_loss: 10.1040\n",
      "Epoch 72/200\n",
      "3/3 [==============================] - 0s 26ms/step - loss: 7.0436 - val_loss: 9.9303\n",
      "Epoch 73/200\n",
      "3/3 [==============================] - 0s 28ms/step - loss: 7.1054 - val_loss: 9.3600\n",
      "Epoch 74/200\n",
      "3/3 [==============================] - 0s 26ms/step - loss: 7.0821 - val_loss: 10.2686\n",
      "Epoch 75/200\n",
      "3/3 [==============================] - 0s 25ms/step - loss: 7.0628 - val_loss: 10.2627\n",
      "Epoch 76/200\n",
      "3/3 [==============================] - 0s 28ms/step - loss: 6.8263 - val_loss: 9.8799\n",
      "Epoch 77/200\n",
      "3/3 [==============================] - 0s 25ms/step - loss: 6.9462 - val_loss: 9.9391\n",
      "Epoch 78/200\n",
      "3/3 [==============================] - 0s 23ms/step - loss: 6.8365 - val_loss: 10.3236\n",
      "Epoch 79/200\n",
      "3/3 [==============================] - 0s 23ms/step - loss: 6.8915 - val_loss: 10.2558\n",
      "Epoch 80/200\n",
      "3/3 [==============================] - 0s 21ms/step - loss: 6.8017 - val_loss: 9.9434\n",
      "Epoch 81/200\n",
      "3/3 [==============================] - 0s 23ms/step - loss: 6.8125 - val_loss: 9.9140\n",
      "Epoch 82/200\n",
      "3/3 [==============================] - 0s 20ms/step - loss: 6.6622 - val_loss: 9.9838\n",
      "Epoch 83/200\n",
      "3/3 [==============================] - 0s 22ms/step - loss: 6.6771 - val_loss: 9.9516\n",
      "Epoch 84/200\n",
      "3/3 [==============================] - 0s 24ms/step - loss: 6.5910 - val_loss: 10.2796\n",
      "Epoch 85/200\n",
      "3/3 [==============================] - 0s 29ms/step - loss: 6.5562 - val_loss: 9.3207\n",
      "Epoch 86/200\n",
      "3/3 [==============================] - 0s 28ms/step - loss: 6.5574 - val_loss: 10.5319\n",
      "Epoch 87/200\n",
      "3/3 [==============================] - 0s 32ms/step - loss: 6.6481 - val_loss: 10.9605\n",
      "Epoch 88/200\n",
      "3/3 [==============================] - 0s 25ms/step - loss: 6.4306 - val_loss: 9.6336\n",
      "Epoch 89/200\n",
      "3/3 [==============================] - 0s 27ms/step - loss: 6.5309 - val_loss: 10.1209\n",
      "Epoch 90/200\n",
      "3/3 [==============================] - 0s 26ms/step - loss: 6.4453 - val_loss: 10.2674\n",
      "Epoch 91/200\n",
      "3/3 [==============================] - 0s 30ms/step - loss: 6.3894 - val_loss: 9.4357\n",
      "Epoch 92/200\n",
      "3/3 [==============================] - 0s 28ms/step - loss: 6.4791 - val_loss: 10.1066\n",
      "Epoch 93/200\n",
      "3/3 [==============================] - 0s 20ms/step - loss: 6.4087 - val_loss: 10.5700\n",
      "Epoch 94/200\n",
      "3/3 [==============================] - 0s 22ms/step - loss: 6.3531 - val_loss: 9.9781\n",
      "Epoch 95/200\n",
      "3/3 [==============================] - 0s 24ms/step - loss: 6.2261 - val_loss: 9.8012\n",
      "Epoch 96/200\n",
      "3/3 [==============================] - 0s 28ms/step - loss: 6.1390 - val_loss: 10.7727\n",
      "Epoch 97/200\n",
      "3/3 [==============================] - 0s 24ms/step - loss: 6.2657 - val_loss: 9.4484\n",
      "Epoch 98/200\n",
      "3/3 [==============================] - 0s 23ms/step - loss: 6.1807 - val_loss: 10.3152\n",
      "Epoch 99/200\n",
      "3/3 [==============================] - 0s 25ms/step - loss: 6.1416 - val_loss: 10.3652\n",
      "Epoch 100/200\n",
      "3/3 [==============================] - 0s 23ms/step - loss: 6.1431 - val_loss: 10.2232\n",
      "Epoch 101/200\n",
      "3/3 [==============================] - 0s 21ms/step - loss: 6.0162 - val_loss: 10.0504\n",
      "Epoch 102/200\n",
      "3/3 [==============================] - 0s 20ms/step - loss: 6.0045 - val_loss: 10.0315\n",
      "Epoch 103/200\n",
      "3/3 [==============================] - 0s 23ms/step - loss: 6.0269 - val_loss: 10.1012\n",
      "Epoch 104/200\n",
      "3/3 [==============================] - 0s 20ms/step - loss: 5.9192 - val_loss: 10.1097\n",
      "Epoch 105/200\n",
      "3/3 [==============================] - 0s 24ms/step - loss: 5.9482 - val_loss: 10.8875\n",
      "Epoch 106/200\n",
      "3/3 [==============================] - 0s 22ms/step - loss: 5.9119 - val_loss: 10.5441\n",
      "Epoch 107/200\n",
      "3/3 [==============================] - 0s 21ms/step - loss: 5.8948 - val_loss: 9.8114\n",
      "Epoch 108/200\n",
      "3/3 [==============================] - 0s 22ms/step - loss: 5.9379 - val_loss: 10.2305\n",
      "Epoch 109/200\n",
      "3/3 [==============================] - 0s 24ms/step - loss: 5.7859 - val_loss: 10.3829\n",
      "Epoch 110/200\n",
      "3/3 [==============================] - 0s 21ms/step - loss: 5.7101 - val_loss: 9.8591\n",
      "Epoch 111/200\n",
      "3/3 [==============================] - 0s 22ms/step - loss: 5.7679 - val_loss: 10.5107\n",
      "Epoch 112/200\n",
      "3/3 [==============================] - 0s 21ms/step - loss: 5.7988 - val_loss: 10.4829\n",
      "Epoch 113/200\n",
      "3/3 [==============================] - 0s 23ms/step - loss: 5.7749 - val_loss: 9.8293\n",
      "Epoch 114/200\n",
      "3/3 [==============================] - 0s 24ms/step - loss: 5.7536 - val_loss: 10.4338\n",
      "Epoch 115/200\n",
      "3/3 [==============================] - 0s 24ms/step - loss: 5.7026 - val_loss: 10.1556\n",
      "Epoch 116/200\n",
      "3/3 [==============================] - 0s 20ms/step - loss: 5.6038 - val_loss: 10.3991\n",
      "Epoch 117/200\n",
      "3/3 [==============================] - 0s 21ms/step - loss: 5.5887 - val_loss: 10.1103\n",
      "Epoch 118/200\n",
      "3/3 [==============================] - 0s 21ms/step - loss: 5.6771 - val_loss: 10.7095\n",
      "Epoch 119/200\n",
      "3/3 [==============================] - 0s 21ms/step - loss: 5.4816 - val_loss: 9.6328\n",
      "Epoch 120/200\n",
      "3/3 [==============================] - 0s 21ms/step - loss: 5.6258 - val_loss: 10.9057\n",
      "Epoch 121/200\n",
      "3/3 [==============================] - 0s 22ms/step - loss: 5.5234 - val_loss: 10.8256\n",
      "Epoch 122/200\n",
      "1/3 [=========>....................] - ETA: 0s - loss: 5.1252"
     ]
    }
   ],
   "source": [
    "history = model.fit(X_train, y_train, epochs=200, verbose=1, validation_data=(X_val, y_val), batch_size=64)\n"
   ]
  },
  {
   "cell_type": "code",
   "execution_count": null,
   "metadata": {},
   "outputs": [
    {
     "name": "stdout",
     "output_type": "stream",
     "text": [
      "You must install pydot (`pip install pydot`) and install graphviz (see instructions at https://graphviz.gitlab.io/download/) for plot_model to work.\n"
     ]
    }
   ],
   "source": [
    "\n",
    "\n",
    "from tensorflow.keras.utils import plot_model\n",
    "plot_model(model, to_file=r'C:\\Users\\user\\Documents\\GitHub\\Deep_Learning_Rainfall\\CNN\\CNN metrics\\Structure model.png', show_shapes=True, show_layer_names=True)\n",
    "# print(model) "
   ]
  },
  {
   "cell_type": "code",
   "execution_count": null,
   "metadata": {},
   "outputs": [
    {
     "name": "stdout",
     "output_type": "stream",
     "text": [
      "Model: \"sequential_1\"\n",
      "_________________________________________________________________\n",
      " Layer (type)                Output Shape              Param #   \n",
      "=================================================================\n",
      " conv1d_2 (Conv1D)           (None, 8, 256)            1536      \n",
      "                                                                 \n",
      " conv1d_3 (Conv1D)           (None, 6, 128)            98432     \n",
      "                                                                 \n",
      " max_pooling1d_1 (MaxPoolin  (None, 3, 128)            0         \n",
      " g1D)                                                            \n",
      "                                                                 \n",
      " flatten_1 (Flatten)         (None, 384)               0         \n",
      "                                                                 \n",
      " dropout_1 (Dropout)         (None, 384)               0         \n",
      "                                                                 \n",
      " dense_2 (Dense)             (None, 128)               49280     \n",
      "                                                                 \n",
      " dense_3 (Dense)             (None, 12)                1548      \n",
      "                                                                 \n",
      "=================================================================\n",
      "Total params: 150796 (589.05 KB)\n",
      "Trainable params: 150796 (589.05 KB)\n",
      "Non-trainable params: 0 (0.00 Byte)\n",
      "_________________________________________________________________\n",
      "None\n"
     ]
    }
   ],
   "source": [
    "print(model.summary())"
   ]
  },
  {
   "cell_type": "code",
   "execution_count": null,
   "metadata": {},
   "outputs": [],
   "source": [
    "hist_df = pd.DataFrame(history.history) \n",
    "# hist_csv_file = r'C:\\Users\\user\\Documents\\GitHub\\Deep_Learning_Rainfall\\CNN\\CNN metrics\\history.csv'\n",
    "# with open(hist_csv_file, mode='w') as f:\n",
    "#     hist_df.to_csv(f)"
   ]
  },
  {
   "cell_type": "code",
   "execution_count": null,
   "metadata": {},
   "outputs": [],
   "source": [
    "prediction = model.predict(X_test, verbose=0)"
   ]
  },
  {
   "cell_type": "code",
   "execution_count": null,
   "metadata": {},
   "outputs": [
    {
     "name": "stdout",
     "output_type": "stream",
     "text": [
      "Predicted MSE : 6.679495665465708\n",
      "Predicted R2 Score : 0.7214078268962942\n",
      "Predicted RMSE  : 2.5844720283775\n",
      "Predicted MAE : 2.1416943858926905\n"
     ]
    }
   ],
   "source": [
    "from sklearn.metrics import mean_squared_error, r2_score , mean_absolute_error\n",
    "mae = mean_absolute_error(prediction, y_test)\n",
    "mse = mean_squared_error(prediction, y_test)\n",
    "r2 = r2_score(prediction[0], y_test[0])\n",
    "rmse = np.sqrt(mse)\n",
    "print('Predicted MSE : %s'%mse)\n",
    "print('Predicted R2 Score : %s'%r2)\n",
    "print('Predicted RMSE  : %s'%rmse)\n",
    "print('Predicted MAE : %s'%mae)\n",
    "# RMSE\n",
    "# MAE\n"
   ]
  },
  {
   "cell_type": "code",
   "execution_count": null,
   "metadata": {},
   "outputs": [
    {
     "data": {
      "text/plain": [
       "array([10.42932131, 11.06401296,  8.98130068, 11.11517081, 13.81595258,\n",
       "       12.54313001, 17.89776144, 21.29069239, 23.30640901, 16.91912588,\n",
       "       10.37283194,  3.62422643])"
      ]
     },
     "execution_count": 35,
     "metadata": {},
     "output_type": "execute_result"
    }
   ],
   "source": [
    "y_test[0]\n",
    "# prediction[0]"
   ]
  },
  {
   "cell_type": "code",
   "execution_count": null,
   "metadata": {},
   "outputs": [],
   "source": [
    "x = np.arange(12)\n",
    "y_test_invert = []\n",
    "\n",
    "# Inverse Box-Cox Transform\n",
    "for i in range(len(y_test[0])):\n",
    "    y_test_invert.append(invert_boxcox(y_test[0][i], ts_lamb))\n"
   ]
  },
  {
   "cell_type": "code",
   "execution_count": null,
   "metadata": {},
   "outputs": [],
   "source": [
    "x = np.arange(12)\n",
    "y_prediction_invert = []\n",
    "\n",
    "# Inverse Box-Cox Transform\n",
    "for i in range(len(y_test[0])):\n",
    "    y_prediction_invert.append(invert_boxcox(prediction[0][i], ts_lamb))\n"
   ]
  },
  {
   "cell_type": "code",
   "execution_count": null,
   "metadata": {},
   "outputs": [
    {
     "data": {
      "text/plain": [
       "[31.074418608311078,\n",
       " 58.48988710161914,\n",
       " 44.35627222886014,\n",
       " 98.67326255859886,\n",
       " 185.1533474104407,\n",
       " 245.23397860450322,\n",
       " 373.58853228236023,\n",
       " 487.60443708969206,\n",
       " 388.9782410102701,\n",
       " 160.27398512751859,\n",
       " 60.074278241149564,\n",
       " 37.69724455418573]"
      ]
     },
     "execution_count": 38,
     "metadata": {},
     "output_type": "execute_result"
    }
   ],
   "source": [
    "y_prediction_invert"
   ]
  },
  {
   "cell_type": "code",
   "execution_count": null,
   "metadata": {},
   "outputs": [
    {
     "data": {
      "text/plain": [
       "[88.10000000000001,\n",
       " 101.1,\n",
       " 62.7,\n",
       " 102.19999999999999,\n",
       " 172.19999999999993,\n",
       " 136.19999999999993,\n",
       " 329.0,\n",
       " 515.0000000000006,\n",
       " 653.0,\n",
       " 285.2,\n",
       " 87.0,\n",
       " 10.699999999999998]"
      ]
     },
     "execution_count": 39,
     "metadata": {},
     "output_type": "execute_result"
    }
   ],
   "source": [
    "y_test_invert"
   ]
  },
  {
   "cell_type": "code",
   "execution_count": null,
   "metadata": {},
   "outputs": [
    {
     "name": "stdout",
     "output_type": "stream",
     "text": [
      "    Actual   Predicted\n",
      "0     88.1   31.074419\n",
      "1    101.1   58.489887\n",
      "2     62.7   44.356272\n",
      "3    102.2   98.673263\n",
      "4    172.2  185.153347\n",
      "5    136.2  245.233979\n",
      "6    329.0  373.588532\n",
      "7    515.0  487.604437\n",
      "8    653.0  388.978241\n",
      "9    285.2  160.273985\n",
      "10    87.0   60.074278\n",
      "11    10.7   37.697245\n"
     ]
    }
   ],
   "source": [
    "\n",
    "df = pd.DataFrame({'Actual': y_test_invert, 'Predicted': y_prediction_invert})\n",
    "\n",
    "# Display the DataFrame\n",
    "print(df)\n",
    "\n",
    "\n",
    "\n",
    "\n",
    "\n",
    "\n"
   ]
  },
  {
   "cell_type": "code",
   "execution_count": null,
   "metadata": {},
   "outputs": [
    {
     "data": {
      "image/png": "[encoded data removed]",
      "text/plain": [
       "<Figure size 640x480 with 1 Axes>"
      ]
     },
     "metadata": {},
     "output_type": "display_data"
    }
   ],
   "source": [
    "plt.plot(y_test_invert)\n",
    "plt.plot(y_prediction_invert)\n",
    "plt.title('CNN -  1 year Forecast')\n",
    "plt.ylabel('Rainfall')\n",
    "plt.xlabel('Month')\n",
    "plt.legend(['Actual', 'Predicted'], loc='upper left')\n",
    "plt.savefig(r'C:\\Users\\user\\Documents\\GitHub\\Deep_Learning_Rainfall\\CNN\\CNN metrics\\plot_test.png')\n",
    "plt.show()"
   ]
  },
  {
   "cell_type": "code",
   "execution_count": null,
   "metadata": {},
   "outputs": [
    {
     "data": {
      "image/png": "[encoded data removed]",
      "text/plain": [
       "<Figure size 640x480 with 1 Axes>"
      ]
     },
     "metadata": {},
     "output_type": "display_data"
    }
   ],
   "source": [
    "\n",
    "import numpy as np\n",
    "\n",
    "# Assuming data is a DataFrame and has a column \"Bãi Cháy\" with actual values\n",
    "actual_values = data[\"Nam Định\"].values\n",
    "\n",
    "# Assuming y_prediction_invert is your predicted values\n",
    "predicted_values = y_prediction_invert\n",
    "\n",
    "# Number of data points for actual values\n",
    "num_data_points_actual = len(actual_values)\n",
    "\n",
    "# Number of data points for predicted values\n",
    "num_data_points_predicted = len(predicted_values)\n",
    "\n",
    "# Generate x-axis values for the entire dataset\n",
    "x_values_actual = np.arange(num_data_points_actual)\n",
    "x_values_predicted = np.arange(num_data_points_actual - num_data_points_predicted, num_data_points_actual)\n",
    "\n",
    "# Plotting\n",
    "plt.plot(x_values_actual, actual_values, label='Actual')\n",
    "plt.plot(x_values_predicted, predicted_values, label='Predicted', linestyle='dashed')\n",
    "plt.title('CNN - 1 Year Forecast')\n",
    "plt.ylabel('Rainfall')\n",
    "plt.xlabel('Months')\n",
    "plt.legend()\n",
    "plt.savefig(r'C:\\Users\\user\\Documents\\GitHub\\Deep_Learning_Rainfall\\CNN\\CNN metrics\\comparison.png')\n",
    "plt.show()\n"
   ]
  }
 ],
 "metadata": {
  "kernelspec": {
   "display_name": ".venv",
   "language": "python",
   "name": "python3"
  },
  "language_info": {
   "codemirror_mode": {
    "name": "ipython",
    "version": 3
   },
   "file_extension": ".py",
   "mimetype": "text/x-python",
   "name": "python",
   "nbconvert_exporter": "python",
   "pygments_lexer": "ipython3",
   "version": "3.11.4"
  }
 },
 "nbformat": 4,
 "nbformat_minor": 2
}
