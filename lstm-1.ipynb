{
 "cells": [
  {
   "cell_type": "code",
   "execution_count": null,
   "metadata": {},
   "outputs": [],
   "source": [
    "import numpy as np\n",
    "sigmoid=[]\n"
   ]
  },
  {
   "cell_type": "code",
   "execution_count": 6,
   "metadata": {},
   "outputs": [
    {
     "data": {
      "text/plain": [
       "4"
      ]
     },
     "execution_count": 6,
     "metadata": {},
     "output_type": "execute_result"
    }
   ],
   "source": []
  },
  {
   "cell_type": "code",
   "execution_count": 1,
   "metadata": {},
   "outputs": [],
   "source": [
    "def lstm_step_forward(x, prev_h, prev_c, Wx, Wh, b):\n",
    "    \"\"\"\n",
    "    Forward pass for a single timestep of an LSTM.\n",
    "    The input data has dimension D, the hidden state has dimension H, and we use\n",
    "    a minibatch size of N.\n",
    "\n",
    "    Inputs:\n",
    "    - x: Input data, of shape (N, D)\n",
    "    - prev_h: Previous hidden state, of shape (N, H)\n",
    "    - prev_c: previous cell state, of shape (N, H)\n",
    "    - Wx: Input-to-hidden weights, of shape (D, 4H)\n",
    "    - Wh: Hidden-to-hidden weights, of shape (H, 4H)\n",
    "    - b: Biases, of shape (4H,)\n",
    "    Returns a tuple of:\n",
    "    - next_h: Next hidden state, of shape (N, H)\n",
    "    - next_c: Next cell state, of shape (N, H)\n",
    "    - cache: Tuple of values needed for backward pass.\n",
    "    \"\"\"\n",
    "    next_h, next_c, cache = None, None, None\n",
    "   \n",
    "    H = b.shape[0] // 4\n",
    "\n",
    "    a = x.dot(Wx) + prev_h.dot(Wh) + b\n",
    "\n",
    "    i = sigmoid(a[:, :H])\n",
    "    f = sigmoid(a[:, H:2*H])\n",
    "    o = sigmoid(a[:, 2*H:3*H])\n",
    "    g = np.tanh(a[:, 3*H:4*H])\n",
    "\n",
    "    next_c = f*prev_c + i*g\n",
    "\n",
    "    next_h = o * np.tanh(next_c)\n",
    "\n",
    "    cache = (x, Wx, prev_h, Wh, b, a, prev_c, i, f, o, g, next_c, next_h)\n",
    "\n",
    "    return next_h, next_c, cache\n"
   ]
  }
 ],
 "metadata": {
  "kernelspec": {
   "display_name": "Python 3",
   "language": "python",
   "name": "python3"
  },
  "language_info": {
   "codemirror_mode": {
    "name": "ipython",
    "version": 3
   },
   "file_extension": ".py",
   "mimetype": "text/x-python",
   "name": "python",
   "nbconvert_exporter": "python",
   "pygments_lexer": "ipython3",
   "version": "3.10.7"
  }
 },
 "nbformat": 4,
 "nbformat_minor": 2
}
